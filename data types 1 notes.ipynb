{
 "cells": [
  {
   "cell_type": "markdown",
   "id": "ca6c2092",
   "metadata": {},
   "source": [
    "# Data Type in python"
   ]
  },
  {
   "cell_type": "markdown",
   "id": "fcf1bd50",
   "metadata": {},
   "source": [
    "Data types tell Python what kind of data is stored in a variable (number, text, collection, etc.), so it can handle it properly."
   ]
  },
  {
   "cell_type": "code",
   "execution_count": null,
   "id": "53362289",
   "metadata": {},
   "outputs": [
    {
     "name": "stdout",
     "output_type": "stream",
     "text": [
      "int dtype:- 23\n",
      "<class 'int'>\n",
      "float dtype:- (23.4, 56.1, 67.23)\n",
      "<class 'tuple'>\n",
      "complex dtype:- (34j, 45.3j)\n",
      "<class 'tuple'>\n"
     ]
    }
   ],
   "source": [
    "#check all the data types \n",
    "\"\"\"\n",
    "1. Numerical  data type are :-integer\n",
    "               Float\n",
    "               complex\n",
    "\"\"\"\n",
    "# examples:\n",
    "#integer(Whole numbers)\n",
    "x=23\n",
    "print(\"int dtype:-\",x)\n",
    "print(type(x)) #check the type of data\n",
    "\n",
    "#Float(Decimal numbers)\n",
    "z=23.4,56.1,67.23\n",
    "print(\"float dtype:-\",z)\n",
    "print(type(z))\n",
    "\n",
    "#complex(Numbers with real + imaginary part (e.g., 2 + 3j))\n",
    "a=34j,45.3j\n",
    "print(\"complex dtype:-\",a)\n",
    "print(type(a))\n"
   ]
  },
  {
   "cell_type": "code",
   "execution_count": null,
   "id": "e3e755ba",
   "metadata": {},
   "outputs": [
    {
     "name": "stdout",
     "output_type": "stream",
     "text": [
      "str dtype:- 23\n",
      "<class 'str'>\n",
      "str dtype:- (23.4, 56.1, 67.23)\n",
      "<class 'str'>\n"
     ]
    }
   ],
   "source": [
    "#2.Text data type are :-String \n",
    "#examples\n",
    "#str → String (text inside quotes)\n",
    "q=\"hello world!\"\n",
    "print(\"str dtype:-\",x)\n",
    "print(type(q))\n",
    "\n",
    "c=\"345\"\n",
    "print(\"str dtype:-\",z)\n",
    "print(type(c))"
   ]
  },
  {
   "cell_type": "code",
   "execution_count": null,
   "id": "bd7285d6",
   "metadata": {},
   "outputs": [
    {
     "name": "stdout",
     "output_type": "stream",
     "text": [
      "[3, 45, 45.67, 'data', True]\n",
      "(12, 376.78, 'hello', False)\n",
      "range(1, 10)\n",
      "range value:- 1\n",
      "range value:- 2\n",
      "range value:- 3\n",
      "range value:- 4\n",
      "range value:- 5\n",
      "range value:- 6\n",
      "range value:- 7\n",
      "range value:- 8\n",
      "range value:- 9\n"
     ]
    }
   ],
   "source": [
    "'''\n",
    "3.sequence data type are :- list\n",
    "                             tuple  \n",
    "                             range\n",
    "                             '''\n",
    "#examples\n",
    "#list → Ordered, mutable collection\n",
    "lis=[3,45,45.67,\"data\",True]\n",
    "print(lis)\n",
    "\n",
    "#tuple → Ordered, immutable collection\n",
    "tup=(12,376.78,\"hello\",False)\n",
    "print(tup)\n",
    "\n",
    "#range → Sequence of numbers (used in loops, e.g., range(5))\n",
    "ran=range(1,10)\n",
    "print(ran)\n",
    "\n",
    "for i in range(1,10):\n",
    "    print(\"range value:-\",i)"
   ]
  },
  {
   "cell_type": "code",
   "execution_count": null,
   "id": "d0d9e35d",
   "metadata": {},
   "outputs": [
    {
     "name": "stdout",
     "output_type": "stream",
     "text": [
      "{'name': 'dolly', 'age': 23}\n",
      "<class 'dict'>\n"
     ]
    }
   ],
   "source": [
    "#4.mapping data type are:- dictionary\n",
    "#dict → Key-value pairs\n",
    "x={\"name\":\"dolly\",\"age\":23}\n",
    "print(x)"
   ]
  },
  {
   "cell_type": "code",
   "execution_count": null,
   "id": "0c8f9f4e",
   "metadata": {},
   "outputs": [
    {
     "name": "stdout",
     "output_type": "stream",
     "text": [
      "set dtype:- {6j, 67.8, 'hello', 23}\n",
      "<class 'set'>\n",
      "frozenset({'world', 23})\n",
      "<class 'frozenset'>\n"
     ]
    }
   ],
   "source": [
    "'''5.set data type are:- set\n",
    "                    frozenset '''\n",
    "#set → Unordered collection of unique items\n",
    "x={\"hello\",23,67.8,6j}\n",
    "print(\"set dtype:-\",x)\n",
    "\n",
    "#frozenset → Immutable set (cannot be changed after creation)\n",
    "y=frozenset({23,\"world\"})\n",
    "print(y)"
   ]
  },
  {
   "cell_type": "code",
   "execution_count": null,
   "id": "72636f1a",
   "metadata": {},
   "outputs": [
    {
     "name": "stdout",
     "output_type": "stream",
     "text": [
      "True\n",
      "False\n",
      "False\n",
      "True\n"
     ]
    }
   ],
   "source": [
    "#6.boolen :bool\n",
    "#bool → Logical values: True or False ,yes or no,0 or 1 etc\n",
    "x =True\n",
    "y=False\n",
    "print(x)\n",
    "print(y)\n",
    "print(x and y)\n",
    "print(x or y)"
   ]
  },
  {
   "cell_type": "code",
   "execution_count": null,
   "id": "99dbc5d8",
   "metadata": {},
   "outputs": [
    {
     "name": "stdout",
     "output_type": "stream",
     "text": [
      "btyes data type:- b'hello'\n",
      "bytearray(b'\\x00\\x00\\x00\\x00\\x00\\x00\\x00\\x00\\x00\\x00')\n",
      "<memory at 0x00000286BA294880>\n"
     ]
    }
   ],
   "source": [
    "'''7.binary data type :- bytes\n",
    "                         bytearray\n",
    "                         memoryview'''\n",
    "\n",
    "#bytes → Immutable sequence of bytes\n",
    "x=b'hello'\n",
    "print(\"btyes data type:-\",x)\n",
    "\n",
    "#bytearray → Mutable sequence of bytes\n",
    "y=bytearray(10)\n",
    "print(y)\n",
    "\n",
    "#memoryview → View object for binary data without copying\n",
    "z=memoryview(bytes(5))\n",
    "print(z)"
   ]
  },
  {
   "cell_type": "code",
   "execution_count": null,
   "id": "1fa4bde2",
   "metadata": {},
   "outputs": [
    {
     "name": "stdout",
     "output_type": "stream",
     "text": [
      "None\n"
     ]
    }
   ],
   "source": [
    "#8 none types:nonetype\n",
    "#NoneType → Special type with single value None (represents \"nothing\")\n",
    "x=None\n",
    "print(x)"
   ]
  },
  {
   "cell_type": "code",
   "execution_count": 10,
   "id": "a8f3aac4",
   "metadata": {},
   "outputs": [
    {
     "name": "stdout",
     "output_type": "stream",
     "text": [
      "x value:- 24\n",
      "y value:- 45\n",
      "a:_ 45\n",
      "b:- 29\n",
      "c:- 20\n",
      "ac:- 30\n",
      "bc:- 10\n",
      "cd:- 25\n"
     ]
    }
   ],
   "source": [
    "#swapping :-exchange the value from one variable to another variable.\n",
    "#examples\n",
    "x=45\n",
    "y=24\n",
    "x,y=y,x\n",
    "print(\"x value:-\",x)\n",
    "print(\"y value:-\",y)\n",
    "\n",
    "a=29\n",
    "b=20\n",
    "c=45\n",
    "a,b,c=c,a,b\n",
    "print(\"a:_\",a)\n",
    "print(\"b:-\",b)\n",
    "print(\"c:-\",c)\n",
    "\n",
    "\n",
    "ac=25\n",
    "bc=30\n",
    "cd=10\n",
    "ac,bc,cd=bc,cd,ac\n",
    "print(\"ac:-\",ac)\n",
    "print(\"bc:-\",bc)\n",
    "print(\"cd:-\",cd)\n"
   ]
  },
  {
   "cell_type": "code",
   "execution_count": 5,
   "id": "ed56287f",
   "metadata": {},
   "outputs": [
    {
     "name": "stdout",
     "output_type": "stream",
     "text": [
      "<class 'int'>\n",
      "<class 'str'>\n"
     ]
    }
   ],
   "source": [
    "#Casting : IT is used to change the data types.\n",
    "#examples\n",
    "x=\"23\"\n",
    "x=int(x) \n",
    "print(type(x))\n",
    "\n",
    "y=[\"bjsnk\",23]\n",
    "y=str(y)\n",
    "print(type(y))\n"
   ]
  }
 ],
 "metadata": {
  "kernelspec": {
   "display_name": "base",
   "language": "python",
   "name": "python3"
  },
  "language_info": {
   "codemirror_mode": {
    "name": "ipython",
    "version": 3
   },
   "file_extension": ".py",
   "mimetype": "text/x-python",
   "name": "python",
   "nbconvert_exporter": "python",
   "pygments_lexer": "ipython3",
   "version": "3.11.7"
  }
 },
 "nbformat": 4,
 "nbformat_minor": 5
}
