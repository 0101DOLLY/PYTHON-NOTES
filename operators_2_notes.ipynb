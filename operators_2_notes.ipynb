{
 "cells": [
  {
   "cell_type": "markdown",
   "id": "20f1f409",
   "metadata": {
    "vscode": {
     "languageId": "plaintext"
    }
   },
   "source": [
    "# operators\n"
   ]
  },
  {
   "cell_type": "markdown",
   "id": "b7c61d2d",
   "metadata": {},
   "source": [
    "Operators are special symbols or keywords in Python that are used to perform operations on variables and values (operands).\n",
    "\n",
    "7 types operators are there:- 1. Arithmetic Operators\n",
    "                              2. Relational (Comparison)Operators\n",
    "                              3. Logical Operators\n",
    "                              4. Assignment Operators\n",
    "                              5. Bitwise Operators\n",
    "                              6. Membership Operators\n",
    "                              7. Identity Operators\n"
   ]
  },
  {
   "cell_type": "code",
   "execution_count": 6,
   "id": "9c120cdd",
   "metadata": {},
   "outputs": [
    {
     "name": "stdout",
     "output_type": "stream",
     "text": [
      "add:- 15\n",
      "sub:- 12\n",
      "multi:- 40\n",
      "div:- 0.1\n",
      "floor:- 4\n",
      "mod:- 1\n",
      "3125\n",
      "534\n",
      "321.06542056074767\n",
      "0\n",
      "-42435.737704918036\n",
      "area if circle:- 154.0\n"
     ]
    }
   ],
   "source": [
    "#1. Arithmetic Operators :- used for mathematical Operators.\n",
    "\n",
    "#Arithmetic Operators types:-\n",
    "#1.Addition(+)\n",
    "print(\"add:-\",10+5)\n",
    "\n",
    "#2.Subtraction(-)\n",
    "print(\"sub:-\",20-8)\n",
    "\n",
    "#3.Multiplication(*)\n",
    "print(\"multi:-\",5*8)\n",
    "\n",
    "#4.Division(/) :-returns float data type.\n",
    "print(\"div:-\",2/20)\n",
    "\n",
    "#5.Floor Division(//):-the show before decimal values.return integer datatype\n",
    "print(\"floor:-\",20//5)\n",
    "\n",
    "#6.Modulus (%):- show a remainder.\n",
    "print(\"mod:-\",34%3)\n",
    "\n",
    "#7.Exponentiation(**):- show a power.\n",
    "print(5**5)\n",
    "\n",
    "#examples\n",
    "#1.add all these values?\n",
    "x,y,z=100,200,234\n",
    "print(x+y+z)\n",
    "\n",
    "#2.show the simplification?\n",
    "w=122\n",
    "x=234\n",
    "z=214\n",
    "'''1.w+y-y/z\n",
    "2.(w+w)*(x-x)\n",
    "3.(x-y-z)*(z/w+x)'''\n",
    "\n",
    "a=w+y-y/z\n",
    "print(a)\n",
    "\n",
    "b=(w+w)*(x-x)\n",
    "print(b)\n",
    "\n",
    "c=(x-y-z)*(z/w+x)\n",
    "print(c)\n",
    "\n",
    "#3.find the area of circle whose radius is given below\n",
    "r=7\n",
    "pie=22/7\n",
    "area=pie*r**2\n",
    "print(\"area if circle:-\",area)\n"
   ]
  },
  {
   "cell_type": "code",
   "execution_count": null,
   "id": "528b961d",
   "metadata": {},
   "outputs": [
    {
     "name": "stdout",
     "output_type": "stream",
     "text": [
      "False\n",
      "True\n",
      "False\n",
      "True\n",
      "False\n",
      "True\n"
     ]
    }
   ],
   "source": [
    "#2. Relational (Comparison)Operators :-Used to compare values. Returns True or False.\n",
    "\n",
    "#Relational (Comparison)Operators types:\n",
    "#1.Equal to(==)\n",
    "a=10\n",
    "b=20\n",
    "print(a==b)\n",
    "\n",
    "#2.Not equal to(!=)\n",
    "print(a!=b)\n",
    "\n",
    "#3.Greater than(>)\n",
    "print(a>b)\n",
    "\n",
    "#4.Less than(<)\n",
    "print(a<b)\n",
    "\n",
    "#5.Greater than or equal to(>=)\n",
    "print(a>=b)\n",
    "\n",
    "#6.Less than or equal to(<=)\n",
    "print(a<=b)\n"
   ]
  },
  {
   "cell_type": "code",
   "execution_count": 13,
   "id": "124a8ee9",
   "metadata": {},
   "outputs": [
    {
     "name": "stdout",
     "output_type": "stream",
     "text": [
      "True\n",
      "True\n",
      "True\n"
     ]
    }
   ],
   "source": [
    "#3. Logical Operators:-Used to combine conditional statements.\n",
    "\n",
    "#logical operators types:\n",
    "#1.and → True if both are true\n",
    "print(10>5 and 8>3)\n",
    "\n",
    "#2.or → True if at least one is true\n",
    "print(10>5 or 8>3)\n",
    "\n",
    "#3.not → Reverses the result\n",
    "print(not(10==5))\n"
   ]
  },
  {
   "cell_type": "code",
   "execution_count": 1,
   "id": "f794ac43",
   "metadata": {},
   "outputs": [
    {
     "name": "stdout",
     "output_type": "stream",
     "text": [
      "10\n",
      "30\n",
      "-4\n",
      "-40\n",
      "-2.0\n",
      "-1.0\n",
      "9.0\n",
      "81.0\n"
     ]
    }
   ],
   "source": [
    "#4. Assignment Operators:-Used to assign values to variables.\n",
    "#1.Simple assignment(=)\n",
    "x=10\n",
    "print(x)\n",
    "\n",
    "#2.Add and assign(+=)\n",
    "x+=20\n",
    "print(x)\n",
    "\n",
    "#3. Subtract and assign(-=)\n",
    "x-=34\n",
    "print(x)\n",
    "\n",
    "#4.Multiply and assign(*=)\n",
    "x*=10\n",
    "print(x)\n",
    "\n",
    "#5. Divide and assign(/=)\n",
    "x/=20\n",
    "print(x)\n",
    "\n",
    "#6.Floor divide and assign(//=)\n",
    "x//=19\n",
    "print(x)\n",
    "\n",
    "#7. Modulus and assign\n",
    "x%=10\n",
    "print(x)\n",
    "\n",
    "#8. Exponent and assign(**=)\n",
    "x**=2\n",
    "print(x)\n"
   ]
  },
  {
   "cell_type": "code",
   "execution_count": 7,
   "id": "2fd7a055",
   "metadata": {},
   "outputs": [
    {
     "name": "stdout",
     "output_type": "stream",
     "text": [
      "1\n",
      "7\n",
      "6\n",
      "-6\n",
      "20\n",
      "5\n"
     ]
    }
   ],
   "source": [
    "#5. Bitwise Operators:-Work on bits (0s and 1s).\n",
    "\n",
    "#1. & (AND)\n",
    "print(5&3) # 1 (0101 & 0011 = 0001)\n",
    "\n",
    "#2. | → OR\n",
    "print(5|3) #7 (0101 | 0011 = 0111)\n",
    "\n",
    "#3. ^ → XOR\n",
    "print(5^3) #5 → 0101 ,3 → 0011 ,XOR → 0110 → 6\n",
    "\n",
    "#4. ~ → NOT (complement)\n",
    "print(~5)\n",
    "\n",
    "#5. << → Left shift\n",
    "print(5 << 2)\n",
    "\n",
    "#6. >> → Right shift\n",
    "print(20 >> 2)\n"
   ]
  },
  {
   "cell_type": "code",
   "execution_count": 8,
   "id": "4f86f525",
   "metadata": {},
   "outputs": [
    {
     "name": "stdout",
     "output_type": "stream",
     "text": [
      "True\n",
      "True\n"
     ]
    }
   ],
   "source": [
    "#6. Membership Operators:-Used to test if a value exists in a sequence (list, tuple, string, etc.).\n",
    "#in → Returns True if value exists\n",
    "#not in → Returns True if value does not exist\n",
    "\n",
    "nums = [1, 2, 3, 4]\n",
    "print(3 in nums)      \n",
    "print(10 not in nums) \n"
   ]
  },
  {
   "cell_type": "code",
   "execution_count": 9,
   "id": "d3ab98b4",
   "metadata": {},
   "outputs": [
    {
     "name": "stdout",
     "output_type": "stream",
     "text": [
      "True\n",
      "False\n"
     ]
    }
   ],
   "source": [
    "#7. Identity Operators:-Used to compare the memory location of two objects.\n",
    "#is → True if both refer to the same object\n",
    "#is not → True if they do not\n",
    "\n",
    "a = [1, 2]\n",
    "b = a\n",
    "c = [1, 2]\n",
    "print(a is b)     # True (same object)\n",
    "print(a is c)     # False (same values but different objects)\n",
    "\n"
   ]
  }
 ],
 "metadata": {
  "kernelspec": {
   "display_name": "base",
   "language": "python",
   "name": "python3"
  },
  "language_info": {
   "codemirror_mode": {
    "name": "ipython",
    "version": 3
   },
   "file_extension": ".py",
   "mimetype": "text/x-python",
   "name": "python",
   "nbconvert_exporter": "python",
   "pygments_lexer": "ipython3",
   "version": "3.11.7"
  }
 },
 "nbformat": 4,
 "nbformat_minor": 5
}
