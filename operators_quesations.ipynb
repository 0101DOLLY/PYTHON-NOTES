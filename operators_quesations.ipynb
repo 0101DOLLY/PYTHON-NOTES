{
 "cells": [
  {
   "cell_type": "markdown",
   "id": "fc1770dd",
   "metadata": {},
   "source": [
    "# Python Operators Practice Questions"
   ]
  },
  {
   "cell_type": "markdown",
   "id": "0e5af2e7",
   "metadata": {},
   "source": [
    "\n",
    "1. Arithmetic Operators (8 Questions)"
   ]
  },
  {
   "cell_type": "code",
   "execution_count": 1,
   "id": "e3b2dfee",
   "metadata": {},
   "outputs": [
    {
     "name": "stdout",
     "output_type": "stream",
     "text": [
      "1057\n"
     ]
    }
   ],
   "source": [
    "#1Write a program to add two numbers.\n",
    "a=234\n",
    "b=823\n",
    "print(a+b)"
   ]
  },
  {
   "cell_type": "code",
   "execution_count": 2,
   "id": "6f706bf0",
   "metadata": {},
   "outputs": [
    {
     "name": "stdout",
     "output_type": "stream",
     "text": [
      "2\n"
     ]
    }
   ],
   "source": [
    "#2.Find the remainder when 55 is divided by 6.\n",
    "print(56%6)"
   ]
  },
  {
   "cell_type": "code",
   "execution_count": 3,
   "id": "30766c22",
   "metadata": {},
   "outputs": [
    {
     "name": "stdout",
     "output_type": "stream",
     "text": [
      "45\n"
     ]
    }
   ],
   "source": [
    "#3 Compute 15 ** 3.\n",
    "print(15*3)"
   ]
  },
  {
   "cell_type": "code",
   "execution_count": 4,
   "id": "a4ce5644",
   "metadata": {},
   "outputs": [
    {
     "name": "stdout",
     "output_type": "stream",
     "text": [
      "6\n"
     ]
    }
   ],
   "source": [
    "#4.Perform floor division of 45 by 7.\n",
    "print(45//7)"
   ]
  },
  {
   "cell_type": "code",
   "execution_count": 5,
   "id": "e202fcb1",
   "metadata": {},
   "outputs": [
    {
     "name": "stdout",
     "output_type": "stream",
     "text": [
      "106\n"
     ]
    }
   ],
   "source": [
    "#5.Multiply 12 * 13 and subtract 50.\n",
    "print(12*13-50)"
   ]
  },
  {
   "cell_type": "code",
   "execution_count": 6,
   "id": "2fe74801",
   "metadata": {},
   "outputs": [
    {
     "name": "stdout",
     "output_type": "stream",
     "text": [
      "75\n"
     ]
    }
   ],
   "source": [
    "#6.Evaluate (10 + 5) * (8 - 3).\n",
    "print((10 + 5) * (8 - 3))"
   ]
  },
  {
   "cell_type": "code",
   "execution_count": 7,
   "id": "7663c154",
   "metadata": {},
   "outputs": [
    {
     "name": "stdout",
     "output_type": "stream",
     "text": [
      "-4\n"
     ]
    }
   ],
   "source": [
    "#7.Find the result of -15 // 4.\n",
    "print(-15//4)"
   ]
  },
  {
   "cell_type": "code",
   "execution_count": null,
   "id": "5c5c405f",
   "metadata": {},
   "outputs": [],
   "source": [
    "#8.Write a program that takes two inputs from the user and performs all arithmetic operations.\n",
    "# Take two inputs in one line\n",
    "a, b = map(int, input(\"Enter two numbers (a b): \").split())\n",
    "\n",
    "print(\"Addition:\", a + b)\n",
    "print(\"Subtraction:\", a - b)\n",
    "print(\"Multiplication:\", a * b)\n",
    "print(\"Division:\", a / b)\n",
    "print(\"Floor Division:\", a // b)\n",
    "print(\"Modulus:\", a % b)\n",
    "print(\"Exponentiation:\", a ** b)\n"
   ]
  },
  {
   "cell_type": "code",
   "execution_count": 8,
   "id": "bc37305b",
   "metadata": {},
   "outputs": [
    {
     "name": "stdout",
     "output_type": "stream",
     "text": [
      "25 is greater than 15\n",
      "45 not is equal to 45.0\n",
      "100 is  not less than 50\n",
      "good compare\n"
     ]
    }
   ],
   "source": [
    "#2. Relational (Comparison) Operators\n",
    "#1.Check if 25 is greater than 15?\n",
    "x=25\n",
    "if  x>15:\n",
    "    print(\"25 is greater than 15\")\n",
    "else:\n",
    "    print(\"25 is not greater than 15\")\n",
    "\n",
    "#2.Verify if 45 is equal to 45.0.\n",
    "a=45\n",
    "if x == 45.0:\n",
    "    print(\" 45 is equal to 45.0\")\n",
    "else:\n",
    "    print( \"45 not is equal to 45.0\")\n",
    "\n",
    "#3.Test whether 100 is less than 50?\n",
    "b=100\n",
    "if b<50:\n",
    "    print(\"100 is less than 50\")\n",
    "else:\n",
    "    print(\"100 is  not less than 50\")\n",
    "\n",
    "#4.Compare if -5 >= -10.\n",
    "if -5 >= -10:\n",
    "    print(\"good compare\")\n",
    "else:\n",
    "    print(\"not parfect compare\")\n",
    "\n",
    "\n",
    "\n"
   ]
  },
  {
   "cell_type": "code",
   "execution_count": null,
   "id": "d9e70141",
   "metadata": {},
   "outputs": [],
   "source": [
    "#5.Write a program to compare two user-input numbers.\n",
    "# Take two inputs in one line\n",
    "a, b = map(int, input(\"Enter two numbers (a b): \").split())\n",
    "\n",
    "print(\"Addition:\", a + b)\n",
    "print(\"Subtraction:\", a - b)\n",
    "print(\"Multiplication:\", a * b)\n",
    "print(\"Division:\", a / b)\n",
    "print(\"Floor Division:\", a // b)\n",
    "print(\"Modulus:\", a % b)\n",
    "print(\"Exponentiation:\", a ** b)\n",
    "\n"
   ]
  },
  {
   "cell_type": "code",
   "execution_count": null,
   "id": "569b1f8b",
   "metadata": {},
   "outputs": [
    {
     "name": "stdout",
     "output_type": "stream",
     "text": [
      "length of python equal to coding\n"
     ]
    }
   ],
   "source": [
    "#Check if the length of string \"Python\" is equal to \"Coding\".\n",
    "s=\"Python\"\n",
    "b=\"Coding\"\n",
    "\n",
    "if len(s)==len(b):\n",
    "    print(\"length of python equal to coding\")\n",
    "else:\n",
    "    print(\"length of python is not equal to coding\")\n",
    "    "
   ]
  },
  {
   "cell_type": "code",
   "execution_count": null,
   "id": "af2775a8",
   "metadata": {},
   "outputs": [
    {
     "name": "stdout",
     "output_type": "stream",
     "text": [
      "False\n",
      "True\n",
      "False\n",
      "30 is between 10 and 50\n"
     ]
    }
   ],
   "source": [
    "#3. Logical Operators \n",
    "\n",
    "#1.Evaluate (10 > 5) and (8 < 3).\n",
    "print((10 > 5) and (8 < 3))\n",
    "\n",
    "#2.Test (7 < 2) or (9 == 9).\n",
    "print((7 < 2) or (9 == 9))\n",
    "\n",
    "#3.Use not operator to invert (25 > 10).\n",
    "print(not(25 > 10))\n",
    "\n",
    "#4.Write a program to check if a number is between 10 and 50 using and .\n",
    "num=30\n",
    "if num >= 10 and num <= 50:\n",
    "    print(num, \"is between 10 and 50\")\n",
    "else:\n",
    "    print(num, \"is NOT between 10 and 50\")\n",
    "\n",
    "#5.Check if a character is a vowel using or.\n",
    "ch = input(\"Enter a character: \").lower()  # take input and convert to lowercase\n",
    "\n",
    "if ch == \"a\" or ch == \"e\" or ch == \"i\" or ch == \"o\" or ch == \"u\":\n",
    "    print(ch, \"is a vowel\")\n",
    "else:\n",
    "    print(ch, \"is NOT a vowel\")\n"
   ]
  },
  {
   "cell_type": "code",
   "execution_count": 3,
   "id": "771475e5",
   "metadata": {},
   "outputs": [
    {
     "name": "stdout",
     "output_type": "stream",
     "text": [
      "30\n",
      "35\n",
      "35\n",
      "5\n"
     ]
    }
   ],
   "source": [
    "#4. Assignment Operators\n",
    "\n",
    "#1.Initialize x = 10, then use += to add 20.\n",
    "x=10\n",
    "x+=20\n",
    "print(x)\n",
    "\n",
    "#2.Use -= operator to decrease y = 50 by 15.\n",
    "y=50\n",
    "y-=15\n",
    "print(y)\n",
    "\n",
    "#3.Use *= operator to multiply z = 7 by 5.\n",
    "z=7\n",
    "z*=5\n",
    "print(z)\n",
    "\n",
    "#4.Use %= operator on a = 29 with a %= 6.\n",
    "a=29\n",
    "a%=6\n",
    "print(a)\n",
    "\n"
   ]
  },
  {
   "cell_type": "code",
   "execution_count": 8,
   "id": "bbea6ff5",
   "metadata": {},
   "outputs": [
    {
     "name": "stdout",
     "output_type": "stream",
     "text": [
      "1\n",
      "7\n",
      "11\n",
      "40\n",
      "2\n"
     ]
    }
   ],
   "source": [
    "#5. Bitwise Operators (5 Questions)\n",
    "\n",
    "#1.Compute 5 & 3.\n",
    "print(5&3)\n",
    "\n",
    "#2.Compute 5 | 3.\n",
    "print(5|3)\n",
    "#3.Find the result of 12 ^ 7.\n",
    "print(12 ^ 7)\n",
    "#4.Perform left shift: 10 << 2.\n",
    "print(10 << 2)\n",
    "\n",
    "#5.Perform right shift: c.\n",
    "print(10 >>2)"
   ]
  },
  {
   "cell_type": "code",
   "execution_count": null,
   "id": "7b18595f",
   "metadata": {},
   "outputs": [
    {
     "name": "stdout",
     "output_type": "stream",
     "text": [
      "5 is in the list\n",
      "a is in apple\n",
      "100 is not in the list\n",
      "Yes, 'Python' exists in the string\n"
     ]
    }
   ],
   "source": [
    "#6. Membership Operators \n",
    "\n",
    "#1.Check if 5 is in [1, 2, 3, 4, 5].\n",
    "x=[1, 2, 3, 4, 5]\n",
    "if 5 in x:\n",
    "    print(\"5 is in the list\")\n",
    "else:\n",
    "    print(\"5 is not in the list\")\n",
    "\n",
    "#2.Verify if \"a\" is in \"apple\".\n",
    "z=\"apple\"\n",
    "if \"a\" in z:\n",
    "    print(\"a is in apple\")\n",
    "\n",
    "#3.Test if 100 is not in [10, 20, 30].\n",
    "x = [10, 20, 30]\n",
    "\n",
    "if 100 not in x:\n",
    "    print(\"100 is not in the list\")\n",
    "else:\n",
    "    print(\"100 is in the list\")\n",
    "\n",
    "#4.Check if \"Python\" substring exists in \"I love Python programming\".\n",
    "text = \"I love Python programming\"\n",
    "\n",
    "if \"Python\" in text:\n",
    "    print(\"Yes, 'Python' exists in the string\")\n",
    "else:\n",
    "    print(\"No, 'Python' not found in the string\")\n"
   ]
  },
  {
   "cell_type": "code",
   "execution_count": 26,
   "id": "14472909",
   "metadata": {},
   "outputs": [
    {
     "name": "stdout",
     "output_type": "stream",
     "text": [
      "True\n",
      "False\n",
      "True\n",
      "False\n",
      "True\n",
      "False\n"
     ]
    }
   ],
   "source": [
    "#7. Identity Operators\n",
    "\n",
    "#1.Compare a = [1,2,3] and b = a using is.\n",
    "a = [1,2,3]\n",
    "b=a\n",
    "print(a is b)\n",
    "\n",
    "#2.Compare a = [1,2,3] and b = [1,2,3] using is.\n",
    "a = [1,2,3]\n",
    "b = [1,2,3]\n",
    "print(a is b)\n",
    "\n",
    "#3.Use is not to check if two variables are different.\n",
    "x = 100\n",
    "y = 200\n",
    "print(x is not y)   \n",
    "\n",
    "#4.Test identity for two tuples (1,2,3) and (1,2,3).\n",
    "t1 = (1, 2, 3)\n",
    "t2 = (1, 2, 3)\n",
    "print(t1 is t2) \n",
    "\n",
    "#5.Write a program to check if two strings created separately are identical using is.\n",
    "s1 = \"Python\"\n",
    "s2 = \"Python\"\n",
    "print(s1 is s2)   \n",
    "s3 = \"\".join([\"Py\", \"thon\"])  \n",
    "print(s1 is s3)   \n"
   ]
  }
 ],
 "metadata": {
  "kernelspec": {
   "display_name": "base",
   "language": "python",
   "name": "python3"
  },
  "language_info": {
   "codemirror_mode": {
    "name": "ipython",
    "version": 3
   },
   "file_extension": ".py",
   "mimetype": "text/x-python",
   "name": "python",
   "nbconvert_exporter": "python",
   "pygments_lexer": "ipython3",
   "version": "3.11.7"
  }
 },
 "nbformat": 4,
 "nbformat_minor": 5
}
