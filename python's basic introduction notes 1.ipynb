{
 "cells": [
  {
   "cell_type": "markdown",
   "id": "9a2dc4ca",
   "metadata": {},
   "source": [
    "\n",
    "# 1.python basic notes \n"
   ]
  },
  {
   "cell_type": "code",
   "execution_count": 1,
   "id": "eecae7df",
   "metadata": {},
   "outputs": [
    {
     "name": "stdout",
     "output_type": "stream",
     "text": [
      "The Zen of Python, by Tim Peters\n",
      "\n",
      "Beautiful is better than ugly.\n",
      "Explicit is better than implicit.\n",
      "Simple is better than complex.\n",
      "Complex is better than complicated.\n",
      "Flat is better than nested.\n",
      "Sparse is better than dense.\n",
      "Readability counts.\n",
      "Special cases aren't special enough to break the rules.\n",
      "Although practicality beats purity.\n",
      "Errors should never pass silently.\n",
      "Unless explicitly silenced.\n",
      "In the face of ambiguity, refuse the temptation to guess.\n",
      "There should be one-- and preferably only one --obvious way to do it.\n",
      "Although that way may not be obvious at first unless you're Dutch.\n",
      "Now is better than never.\n",
      "Although never is often better than *right* now.\n",
      "If the implementation is hard to explain, it's a bad idea.\n",
      "If the implementation is easy to explain, it may be a good idea.\n",
      "Namespaces are one honking great idea -- let's do more of those!\n"
     ]
    }
   ],
   "source": [
    "import this      #show the python's philosophy\n"
   ]
  },
  {
   "cell_type": "code",
   "execution_count": 11,
   "id": "c0028b2c",
   "metadata": {},
   "outputs": [
    {
     "data": {
      "text/plain": [
       "\"Beautiful is better than ugly.\\nExplicit is better than implicit.\\nSimple is better than complex.\\nComplex is better than complicated.\\nFlat is better than nested.\\nSparse is better than dense.\\nReadability counts.\\nSpecial cases aren't special enough to break the rules.\\nAlthough practicality beats purity.\\nErrors should never pass silently.\\nUnless explicitly silenced.\""
      ]
     },
     "execution_count": 11,
     "metadata": {},
     "output_type": "execute_result"
    }
   ],
   "source": [
    "#comments means we want to see a code but don't want to execute .\n",
    "# comment are two types :-1.single comment(#) ,2.multiple comment(\"\"\"......\"\"\")\n",
    "#start python short notes (this is single comments)\n",
    "'''Beautiful is better than ugly.\n",
    "Explicit is better than implicit.\n",
    "Simple is better than complex.\n",
    "Complex is better than complicated.\n",
    "Flat is better than nested.\n",
    "Sparse is better than dense.\n",
    "Readability counts.\n",
    "Special cases aren't special enough to break the rules.\n",
    "Although practicality beats purity.\n",
    "Errors should never pass silently.\n",
    "Unless explicitly silenced.''' #this is multiple comments"
   ]
  },
  {
   "cell_type": "code",
   "execution_count": null,
   "id": "16a6c172",
   "metadata": {},
   "outputs": [
    {
     "name": "stdout",
     "output_type": "stream",
     "text": [
      "apple\n",
      "30\n",
      "10\n",
      "30\n",
      "40\n"
     ]
    }
   ],
   "source": [
    "#variable:It is a sort name of any values.\n",
    "                        #or\n",
    "#its work like a container where we store multiple values in a single variable.\n",
    "\n",
    "# variable are two types :- single variable and multiple variable\n",
    "\n",
    "# single variable :- means that  only one variable are used to store values.\n",
    "x=\"apple\" \n",
    "print(x)\n",
    "\n",
    "z=20+10\n",
    "print(z)\n",
    "\n",
    "#multiple variable :-means that we can store multiple values in two or more variables.\n",
    "x,y,z=10,30,40\n",
    "print(x)\n",
    "print(y)\n",
    "print(z)\n",
    "\n",
    "#limitation of variable\n",
    "#1.variable should be written in alphanumeric characteers (x4,d5 etc)\n",
    "#2. variable should be start with alphabets (a,f,apha etc)\n",
    "#3. vaiables can't written in number.\n",
    "#4. variable you can't use any special charaters(#,$,& etc)\n",
    "#5. variable are case sencentive(x=23   print(X))\n",
    "#6. variable can't used any data types.\n",
    "\n",
    "\n"
   ]
  },
  {
   "cell_type": "code",
   "execution_count": 12,
   "id": "bbd3fed8",
   "metadata": {},
   "outputs": [
    {
     "ename": "IndentationError",
     "evalue": "unexpected indent (3147993979.py, line 2)",
     "output_type": "error",
     "traceback": [
      "\u001b[1;36m  Cell \u001b[1;32mIn[12], line 2\u001b[1;36m\u001b[0m\n\u001b[1;33m    x=20\u001b[0m\n\u001b[1;37m    ^\u001b[0m\n\u001b[1;31mIndentationError\u001b[0m\u001b[1;31m:\u001b[0m unexpected indent\n"
     ]
    }
   ],
   "source": [
    "#Indentation error : Indentation error means extra space of any starting of the code.\n",
    "     x=20\n",
    "      print(x)"
   ]
  }
 ],
 "metadata": {
  "kernelspec": {
   "display_name": "base",
   "language": "python",
   "name": "python3"
  },
  "language_info": {
   "codemirror_mode": {
    "name": "ipython",
    "version": 3
   },
   "file_extension": ".py",
   "mimetype": "text/x-python",
   "name": "python",
   "nbconvert_exporter": "python",
   "pygments_lexer": "ipython3",
   "version": "3.11.7"
  }
 },
 "nbformat": 4,
 "nbformat_minor": 5
}
